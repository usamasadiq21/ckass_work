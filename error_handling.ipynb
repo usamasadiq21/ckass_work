{
 "cells": [
  {
   "cell_type": "code",
   "execution_count": 3,
   "metadata": {},
   "outputs": [
    {
     "name": "stdout",
     "output_type": "stream",
     "text": [
      "Error => unsupported operand type(s) for /: 'int' and 'str'\n"
     ]
    }
   ],
   "source": [
    "user_input = int(input('Enter ANy Number'))\n",
    "try:\n",
    "    user_input/\"usama\"\n",
    "except Exception as e:\n",
    "    print('Error =>', e)"
   ]
  },
  {
   "cell_type": "code",
   "execution_count": 5,
   "metadata": {},
   "outputs": [
    {
     "name": "stdout",
     "output_type": "stream",
     "text": [
      "Error as => Age Should fulfill define limit.\n"
     ]
    }
   ],
   "source": [
    "def check_age(age):\n",
    "    if age < 18:\n",
    "        raise ValueError(\"Age Should fulfill define limit.\")\n",
    "    else:\n",
    "        print('Age is Acceptable')\n",
    "\n",
    "try:\n",
    "    check_age(17)\n",
    "except Exception as e:\n",
    "    print('Error as =>', e)\n"
   ]
  },
  {
   "cell_type": "markdown",
   "metadata": {},
   "source": [
    "#### File Handling"
   ]
  },
  {
   "cell_type": "markdown",
   "metadata": {},
   "source": [
    "- open\n",
    "  - syntax : file = open('FIlename', mode)\n",
    "  - mode\n",
    "    - 'r': Read(Default mode) Open the file for reading\n",
    "    - 'w': write  "
   ]
  },
  {
   "cell_type": "code",
   "execution_count": 8,
   "metadata": {},
   "outputs": [
    {
     "name": "stdout",
     "output_type": "stream",
     "text": [
      "File ReadSuccessfully\n"
     ]
    }
   ],
   "source": [
    "read_file = open('python.txt', 'r')\n",
    "content = read_file.read()\n",
    "print(content)"
   ]
  },
  {
   "cell_type": "markdown",
   "metadata": {},
   "source": [
    "Readline()"
   ]
  },
  {
   "cell_type": "code",
   "execution_count": 12,
   "metadata": {},
   "outputs": [
    {
     "name": "stdout",
     "output_type": "stream",
     "text": [
      "File ReadSuccessfully\n",
      "\n"
     ]
    }
   ],
   "source": [
    "read_file2 = open('python.txt', 'r')\n",
    "content = read_file2.readline()\n",
    "print(content)"
   ]
  },
  {
   "cell_type": "markdown",
   "metadata": {},
   "source": [
    "Readlines()"
   ]
  },
  {
   "cell_type": "code",
   "execution_count": 13,
   "metadata": {},
   "outputs": [
    {
     "name": "stdout",
     "output_type": "stream",
     "text": [
      "['File ReadSuccessfully\\n', 'welcome\\n', 'good to see you\\n', 'have a safe journey\\n', 'work hard']\n"
     ]
    }
   ],
   "source": [
    "read_file3 = open('python.txt', 'r')\n",
    "content = read_file3.readlines()\n",
    "print(content)"
   ]
  },
  {
   "cell_type": "markdown",
   "metadata": {},
   "source": [
    "Above code ka output eik list ma aa rha ha, to get this line by line we need to loop this list."
   ]
  },
  {
   "cell_type": "code",
   "execution_count": 17,
   "metadata": {},
   "outputs": [
    {
     "name": "stdout",
     "output_type": "stream",
     "text": [
      "File ReadSuccessfully\n",
      "welcome\n",
      "good to see you\n",
      "have a safe journey\n",
      "work hard\n"
     ]
    }
   ],
   "source": [
    "for line in content:\n",
    "    print(line.strip())  # .strip(), ye methon extra spaces ko khatam kr ta ha.."
   ]
  },
  {
   "cell_type": "code",
   "execution_count": 18,
   "metadata": {},
   "outputs": [
    {
     "name": "stdout",
     "output_type": "stream",
     "text": [
      "File Read Error [Errno 2] No such file or directory: 'program.txt'\n"
     ]
    }
   ],
   "source": [
    "try:\n",
    "    new_file = open('program.txt', 'r')\n",
    "except FileNotFoundError as fe:\n",
    "    print('File Read Error', fe)"
   ]
  },
  {
   "cell_type": "code",
   "execution_count": 20,
   "metadata": {},
   "outputs": [
    {
     "name": "stdout",
     "output_type": "stream",
     "text": [
      "FIle open in wrong mode not writable\n"
     ]
    }
   ],
   "source": [
    "try:\n",
    "    new_file2 = open('python.txt', 'r')\n",
    "    content = new_file2.write('New COntent Added')\n",
    "    print(content)\n",
    "except:\n",
    "    print('FIle open in wrong mode', e)\n",
    "    "
   ]
  },
  {
   "cell_type": "code",
   "execution_count": null,
   "metadata": {},
   "outputs": [],
   "source": []
  }
 ],
 "metadata": {
  "kernelspec": {
   "display_name": "Python 3",
   "language": "python",
   "name": "python3"
  },
  "language_info": {
   "codemirror_mode": {
    "name": "ipython",
    "version": 3
   },
   "file_extension": ".py",
   "mimetype": "text/x-python",
   "name": "python",
   "nbconvert_exporter": "python",
   "pygments_lexer": "ipython3",
   "version": "3.12.3"
  }
 },
 "nbformat": 4,
 "nbformat_minor": 2
}
